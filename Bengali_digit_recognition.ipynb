{
 "cells": [
  {
   "cell_type": "markdown",
   "metadata": {
    "colab_type": "text",
    "id": "VRn3XMP7aDXE"
   },
   "source": [
    "# Bengali Digits Recognition"
   ]
  },
  {
   "cell_type": "code",
   "execution_count": 0,
   "metadata": {
    "colab": {},
    "colab_type": "code",
    "id": "jHaryfWIaDXH"
   },
   "outputs": [],
   "source": [
    "IMAGE_HEIGHT = 28\n",
    "IMAGE_WIDTH = 28\n",
    "IMAGE_CHANNELS = 1\n",
    "NUM_CLASSES = 10\n",
    "BATCH_SIZE = 20\n",
    "EPOCHS = 30\n",
    "NUM_CLASSES = 10"
   ]
  },
  {
   "cell_type": "markdown",
   "metadata": {
    "colab_type": "text",
    "id": "NHHl3MGmaDXN"
   },
   "source": [
    "### Create CSV files"
   ]
  },
  {
   "cell_type": "code",
   "execution_count": 43,
   "metadata": {
    "colab": {
     "base_uri": "https://localhost:8080/",
     "height": 102
    },
    "colab_type": "code",
    "id": "zwUi_83kaDXP",
    "outputId": "7411609e-97e3-48f1-fa62-dbe8ceb0c8ec"
   },
   "outputs": [
    {
     "name": "stdout",
     "output_type": "stream",
     "text": [
      "train 750\n",
      "test 250\n",
      "Training CSV file created successfully\n",
      "Testing CSV file created successfully\n",
      "CSV files created successfully\n"
     ]
    }
   ],
   "source": [
    "from sklearn.model_selection import train_test_split\n",
    "import csv\n",
    "import glob\n",
    "\n",
    "digit_classes = ['0','1','2','3','4','5','6','7','8','9']\n",
    "\n",
    "def create_csvs():\n",
    "    train = []\n",
    "    test = []\n",
    "    total = []\n",
    "\n",
    "    for myclass, directory in enumerate(digit_classes):\n",
    "        for filename in glob.glob('data/{}/*.tif'.format(directory)):\n",
    "            total.append([filename, myclass, directory])\n",
    "\n",
    "    train,test = train_test_split(total)\n",
    "    print('train', len(train))\n",
    "    print('test', len(test))\n",
    "\n",
    "    with open('train.csv', 'w') as csvfile:\n",
    "        mywriter = csv.writer(csvfile)\n",
    "        mywriter.writerow(['path', 'class', 'digit'])\n",
    "        mywriter.writerows(train)\n",
    "        print('Training CSV file created successfully')\n",
    "\n",
    "    with open('test.csv', 'w') as csvfile:\n",
    "        mywriter = csv.writer(csvfile)\n",
    "        mywriter.writerow(['path', 'class', 'digit'])\n",
    "        mywriter.writerows(test)\n",
    "        print('Testing CSV file created successfully')\n",
    "\n",
    "    print('CSV files created successfully')\n",
    "\n",
    "create_csvs()\n"
   ]
  },
  {
   "cell_type": "code",
   "execution_count": 4,
   "metadata": {
    "colab": {
     "base_uri": "https://localhost:8080/",
     "height": 34
    },
    "colab_type": "code",
    "id": "DKdLrTrPaDXZ",
    "outputId": "28f742d3-c84b-4022-d0ea-7ff661aef9f4"
   },
   "outputs": [
    {
     "name": "stderr",
     "output_type": "stream",
     "text": [
      "Using TensorFlow backend.\n"
     ]
    }
   ],
   "source": [
    "import numpy as np\n",
    "import cv2\n",
    "from keras.utils import to_categorical\n",
    "\n",
    "def get_image(index, data):\n",
    "    img = cv2.imread(data['path'].values[index].strip(),cv2.IMREAD_GRAYSCALE)\n",
    "    img = cv2.resize(img,(IMAGE_HEIGHT,IMAGE_WIDTH))\n",
    "    img = np.expand_dims(img, axis=-1)\n",
    "    digit_class = data['class'].values[index]\n",
    "    return img/255.0, digit_class\n",
    "\n",
    "def make_image_gen(data, batch_size = BATCH_SIZE):\n",
    "    while True:\n",
    "        # Randomize the indices to make an array\n",
    "        indices_arr = np.random.permutation(data.count()[0])\n",
    "        for batch in range(0, len(indices_arr), batch_size):\n",
    "            # slice out the current batch according to batch-size\n",
    "            current_batch = indices_arr[batch:(batch + batch_size)]\n",
    "\n",
    "            # initializing the arrays, x_train and y_train\n",
    "            image_arr = np.empty([0, IMAGE_HEIGHT, IMAGE_WIDTH, IMAGE_CHANNELS], dtype=np.float32)\n",
    "\n",
    "            y_train = np.empty([0], dtype=np.int32)\n",
    "\n",
    "            for i in current_batch:\n",
    "                # get image and its corresponding class(0,1,2,3,....,9)\n",
    "                image, digit_class = get_image(i, data)\n",
    "                image = np.expand_dims(image,axis=0)\n",
    "#                 print(image.shape)\n",
    "\n",
    "                # Appending them to existing batch\n",
    "                image_arr = np.append(image_arr, image, axis=0)\n",
    "                y_train = np.append(y_train, [digit_class])\n",
    "                \n",
    "            y_train = to_categorical(y_train, num_classes=NUM_CLASSES)\n",
    "\n",
    "            yield (image_arr, y_train)"
   ]
  },
  {
   "cell_type": "markdown",
   "metadata": {
    "colab_type": "text",
    "id": "r4yutoiUaDXg"
   },
   "source": [
    "## Make train Generator"
   ]
  },
  {
   "cell_type": "code",
   "execution_count": 5,
   "metadata": {
    "colab": {
     "base_uri": "https://localhost:8080/",
     "height": 51
    },
    "colab_type": "code",
    "id": "_wmsRunjaDXj",
    "outputId": "59bc0423-aead-4a6a-b9ba-a51e1e7175fa"
   },
   "outputs": [
    {
     "name": "stdout",
     "output_type": "stream",
     "text": [
      "x (20, 28, 28, 1) 0.0 1.0\n",
      "y (20, 10) 0.0 1.0\n"
     ]
    }
   ],
   "source": [
    "import pandas as pd\n",
    "import os\n",
    "import cv2\n",
    "\n",
    "# Read Dataset\n",
    "d_train = pd.read_csv(os.path.join('train.csv'))\n",
    "train_gen = make_image_gen(d_train)\n",
    "train_x, train_y = next(train_gen)\n",
    "print('x', train_x.shape, train_x.min(), train_x.max())\n",
    "print('y', train_y.shape, train_y.min(), train_y.max())"
   ]
  },
  {
   "cell_type": "markdown",
   "metadata": {
    "colab_type": "text",
    "id": "TuQphblgaDXp"
   },
   "source": [
    "## Make Validation Generator"
   ]
  },
  {
   "cell_type": "code",
   "execution_count": 6,
   "metadata": {
    "colab": {
     "base_uri": "https://localhost:8080/",
     "height": 51
    },
    "colab_type": "code",
    "id": "0XmehW5MaDXr",
    "outputId": "b9685cca-2750-4261-d02b-f11002e2f3e9"
   },
   "outputs": [
    {
     "name": "stdout",
     "output_type": "stream",
     "text": [
      "x (20, 28, 28, 1) 0.0 1.0\n",
      "y (20, 10) 0.0 1.0\n"
     ]
    }
   ],
   "source": [
    "# Read Dataset\n",
    "d_test = pd.read_csv(os.path.join('test.csv'))\n",
    "test_gen = make_image_gen(d_train)\n",
    "test_x, test_y = next(train_gen)\n",
    "print('x', test_x.shape, test_x.min(), test_x.max())\n",
    "print('y', test_y.shape, test_y.min(), test_y.max())"
   ]
  },
  {
   "cell_type": "markdown",
   "metadata": {
    "colab_type": "text",
    "id": "5qykU4oCaDXy"
   },
   "source": [
    "## Augment Data"
   ]
  },
  {
   "cell_type": "code",
   "execution_count": 0,
   "metadata": {
    "colab": {},
    "colab_type": "code",
    "id": "jFNKh1VMaDXz"
   },
   "outputs": [],
   "source": [
    "from keras.preprocessing.image import ImageDataGenerator\n",
    "dg_args = dict(featurewise_center = False, \n",
    "                  samplewise_center = False,\n",
    "                  brightness_range = [0.8,1.5],\n",
    "                  rotation_range = 15, \n",
    "                  width_shift_range = 0.1, \n",
    "                  height_shift_range = 0.1, \n",
    "                  shear_range = 0.01,\n",
    "                  zoom_range = [0.9, 1.25],  \n",
    "                  horizontal_flip = False, \n",
    "                  vertical_flip = False,\n",
    "                  fill_mode = 'nearest',\n",
    "                  data_format = 'channels_last')\n",
    "\n",
    "def create_aug_gen(in_gen, seed = None):\n",
    "    image_gen = ImageDataGenerator(**dg_args)\n",
    "    for in_x, in_y in in_gen:\n",
    "        # keep the seeds syncronized otherwise the augmentation to the images is different from the masks\n",
    "        g_x = image_gen.flow(255*in_x, \n",
    "                             batch_size = in_x.shape[0],\n",
    "                             shuffle=False)\n",
    "\n",
    "        yield next(g_x)/255.0, in_y"
   ]
  },
  {
   "cell_type": "markdown",
   "metadata": {
    "colab_type": "text",
    "id": "bbsNEBFjcyqK"
   },
   "source": [
    "## Test Augmentations"
   ]
  },
  {
   "cell_type": "code",
   "execution_count": 27,
   "metadata": {
    "colab": {
     "base_uri": "https://localhost:8080/",
     "height": 292
    },
    "colab_type": "code",
    "id": "Pu5IAHJvc5rJ",
    "outputId": "b5bd973d-7d85-4f88-8e09-105b31ec7cf9"
   },
   "outputs": [
    {
     "name": "stdout",
     "output_type": "stream",
     "text": [
      "x (20, 28, 28, 1) float32 0.0 1.0\n",
      "y (20, 10) float32 0.0 1.0\n"
     ]
    },
    {
     "data": {
      "image/png": "[encoded data removed]",
      "text/plain": [
       "<matplotlib.figure.Figure at 0x7ff72d224400>"
      ]
     },
     "metadata": {
      "tags": []
     },
     "output_type": "display_data"
    }
   ],
   "source": [
    "import matplotlib.pyplot as plt\n",
    "cur_gen = create_aug_gen(train_gen)\n",
    "t_x, t_y = next(cur_gen)\n",
    "print('x', t_x.shape, t_x.dtype, t_x.min(), t_x.max())\n",
    "print('y', t_y.shape, t_y.dtype, t_y.min(), t_y.max())\n",
    "# only keep first 20 samples to examine in detail\n",
    "t_x = t_x[:20]\n",
    "t_y = t_y[:20]\n",
    "fig = plt.figure(figsize=(10,5))\n",
    "for i in range(2):\n",
    "  for j in range(10):\n",
    "    plt.subplot(2,10,i*10 + j +1)\n",
    "    plt.title(np.argmax(t_y[i*10 + j]))\n",
    "    plt.imshow(np.reshape(t_x[i*10 + j],(IMAGE_HEIGHT,IMAGE_WIDTH)))\n",
    "    plt.axis('off')\n",
    "plt.show()"
   ]
  },
  {
   "cell_type": "markdown",
   "metadata": {
    "colab_type": "text",
    "id": "rDEUduTvnUsy"
   },
   "source": [
    "## Make LeNet Model"
   ]
  },
  {
   "cell_type": "code",
   "execution_count": 0,
   "metadata": {
    "colab": {},
    "colab_type": "code",
    "id": "eVS_CtlKg-Ux"
   },
   "outputs": [],
   "source": [
    "from keras.models import Sequential\n",
    "from keras.layers import Conv2D, Dense, Dropout, MaxPooling2D, Flatten\n",
    "\n",
    "def LeNet(input_shape):\n",
    "  model = Sequential()\n",
    "  model.add(Conv2D(32, kernel_size=(3, 3),\n",
    "                 activation='relu',\n",
    "                 input_shape=input_shape))\n",
    "  model.add(Conv2D(64, (3, 3), activation='relu'))\n",
    "  model.add(MaxPooling2D(pool_size=(2, 2)))\n",
    "  model.add(Dropout(0.25))\n",
    "  model.add(Flatten())\n",
    "  model.add(Dense(128, activation='relu'))\n",
    "  model.add(Dropout(0.5))\n",
    "  model.add(Dense(NUM_CLASSES, activation='softmax'))\n",
    "  model.summary()\n",
    "  return model"
   ]
  },
  {
   "cell_type": "code",
   "execution_count": 37,
   "metadata": {
    "colab": {
     "base_uri": "https://localhost:8080/",
     "height": 2502
    },
    "colab_type": "code",
    "id": "nHnh7W53naWt",
    "outputId": "c3c49829-2be3-4ff5-b789-e4fa8b7317bc"
   },
   "outputs": [
    {
     "name": "stdout",
     "output_type": "stream",
     "text": [
      "_________________________________________________________________\n",
      "Layer (type)                 Output Shape              Param #   \n",
      "=================================================================\n",
      "conv2d_5 (Conv2D)            (None, 26, 26, 32)        320       \n",
      "_________________________________________________________________\n",
      "conv2d_6 (Conv2D)            (None, 24, 24, 64)        18496     \n",
      "_________________________________________________________________\n",
      "max_pooling2d_3 (MaxPooling2 (None, 12, 12, 64)        0         \n",
      "_________________________________________________________________\n",
      "dropout_5 (Dropout)          (None, 12, 12, 64)        0         \n",
      "_________________________________________________________________\n",
      "flatten_3 (Flatten)          (None, 9216)              0         \n",
      "_________________________________________________________________\n",
      "dense_5 (Dense)              (None, 128)               1179776   \n",
      "_________________________________________________________________\n",
      "dropout_6 (Dropout)          (None, 128)               0         \n",
      "_________________________________________________________________\n",
      "dense_6 (Dense)              (None, 10)                1290      \n",
      "=================================================================\n",
      "Total params: 1,199,882\n",
      "Trainable params: 1,199,882\n",
      "Non-trainable params: 0\n",
      "_________________________________________________________________\n",
      "Training started....\n",
      "WARNING:tensorflow:Variable *= will be deprecated. Use `var.assign(var * other)` if you want assignment to the variable value or `x = x * y` if you want a new python Tensor object.\n",
      "Epoch 1/30\n",
      "37/37 [==============================] - 5s 124ms/step - loss: 2.3021 - acc: 0.1203 - val_loss: 2.2547 - val_acc: 0.1792\n",
      "\n",
      "Epoch 00001: val_loss improved from inf to 2.25472, saving model to LeNet.f5\n",
      "Epoch 2/30\n",
      "37/37 [==============================] - 1s 17ms/step - loss: 2.2260 - acc: 0.2229 - val_loss: 2.1324 - val_acc: 0.4500\n",
      "\n",
      "Epoch 00002: val_loss improved from 2.25472 to 2.13243, saving model to LeNet.f5\n",
      "Epoch 3/30\n",
      "37/37 [==============================] - 1s 17ms/step - loss: 2.0822 - acc: 0.3485 - val_loss: 1.9012 - val_acc: 0.6391\n",
      "\n",
      "Epoch 00003: val_loss improved from 2.13243 to 1.90120, saving model to LeNet.f5\n",
      "Epoch 4/30\n",
      "37/37 [==============================] - 1s 17ms/step - loss: 1.7927 - acc: 0.4811 - val_loss: 1.5222 - val_acc: 0.8042\n",
      "\n",
      "Epoch 00004: val_loss improved from 1.90120 to 1.52217, saving model to LeNet.f5\n",
      "Epoch 5/30\n",
      "37/37 [==============================] - 1s 17ms/step - loss: 1.4697 - acc: 0.6054 - val_loss: 1.1697 - val_acc: 0.8250\n",
      "\n",
      "Epoch 00005: val_loss improved from 1.52217 to 1.16966, saving model to LeNet.f5\n",
      "Epoch 6/30\n",
      "37/37 [==============================] - 1s 17ms/step - loss: 1.1418 - acc: 0.6986 - val_loss: 0.8490 - val_acc: 0.8435\n",
      "\n",
      "Epoch 00006: val_loss improved from 1.16966 to 0.84897, saving model to LeNet.f5\n",
      "Epoch 7/30\n",
      "37/37 [==============================] - 1s 17ms/step - loss: 0.9017 - acc: 0.7689 - val_loss: 0.6617 - val_acc: 0.8708\n",
      "\n",
      "Epoch 00007: val_loss improved from 0.84897 to 0.66168, saving model to LeNet.f5\n",
      "Epoch 8/30\n",
      "37/37 [==============================] - 1s 17ms/step - loss: 0.7677 - acc: 0.7744 - val_loss: 0.4903 - val_acc: 0.9083\n",
      "\n",
      "Epoch 00008: val_loss improved from 0.66168 to 0.49028, saving model to LeNet.f5\n",
      "Epoch 9/30\n",
      "37/37 [==============================] - 1s 17ms/step - loss: 0.6279 - acc: 0.8284 - val_loss: 0.3728 - val_acc: 0.9391\n",
      "\n",
      "Epoch 00009: val_loss improved from 0.49028 to 0.37279, saving model to LeNet.f5\n",
      "Epoch 10/30\n",
      "37/37 [==============================] - 1s 16ms/step - loss: 0.5710 - acc: 0.8432 - val_loss: 0.3472 - val_acc: 0.9292\n",
      "\n",
      "Epoch 00010: val_loss improved from 0.37279 to 0.34722, saving model to LeNet.f5\n",
      "Epoch 11/30\n",
      "37/37 [==============================] - 1s 17ms/step - loss: 0.4816 - acc: 0.8730 - val_loss: 0.3261 - val_acc: 0.9174\n",
      "\n",
      "Epoch 00011: val_loss improved from 0.34722 to 0.32615, saving model to LeNet.f5\n",
      "Epoch 12/30\n",
      "37/37 [==============================] - 1s 17ms/step - loss: 0.4655 - acc: 0.8581 - val_loss: 0.2239 - val_acc: 0.9625\n",
      "\n",
      "Epoch 00012: val_loss improved from 0.32615 to 0.22394, saving model to LeNet.f5\n",
      "Epoch 13/30\n",
      "37/37 [==============================] - 1s 18ms/step - loss: 0.3867 - acc: 0.8893 - val_loss: 0.2569 - val_acc: 0.9333\n",
      "\n",
      "Epoch 00013: val_loss did not improve from 0.22394\n",
      "Epoch 14/30\n",
      "37/37 [==============================] - 1s 17ms/step - loss: 0.3260 - acc: 0.9121 - val_loss: 0.1786 - val_acc: 0.9652\n",
      "\n",
      "Epoch 00014: val_loss improved from 0.22394 to 0.17859, saving model to LeNet.f5\n",
      "Epoch 15/30\n",
      "37/37 [==============================] - 1s 17ms/step - loss: 0.3036 - acc: 0.9135 - val_loss: 0.1521 - val_acc: 0.9750\n",
      "\n",
      "Epoch 00015: val_loss improved from 0.17859 to 0.15211, saving model to LeNet.f5\n",
      "Epoch 16/30\n",
      "37/37 [==============================] - 1s 17ms/step - loss: 0.2523 - acc: 0.9352 - val_loss: 0.1286 - val_acc: 0.9750\n",
      "\n",
      "Epoch 00016: val_loss improved from 0.15211 to 0.12863, saving model to LeNet.f5\n",
      "Epoch 17/30\n",
      "37/37 [==============================] - 1s 16ms/step - loss: 0.2434 - acc: 0.9379 - val_loss: 0.1320 - val_acc: 0.9783\n",
      "\n",
      "Epoch 00017: val_loss did not improve from 0.12863\n",
      "Epoch 18/30\n",
      "37/37 [==============================] - 1s 17ms/step - loss: 0.2299 - acc: 0.9365 - val_loss: 0.0881 - val_acc: 0.9958\n",
      "\n",
      "Epoch 00018: val_loss improved from 0.12863 to 0.08812, saving model to LeNet.f5\n",
      "Epoch 19/30\n",
      "37/37 [==============================] - 1s 17ms/step - loss: 0.1980 - acc: 0.9500 - val_loss: 0.0891 - val_acc: 0.9913\n",
      "\n",
      "Epoch 00019: val_loss did not improve from 0.08812\n",
      "Epoch 20/30\n",
      "37/37 [==============================] - 1s 17ms/step - loss: 0.1951 - acc: 0.9446 - val_loss: 0.0842 - val_acc: 0.9917\n",
      "\n",
      "Epoch 00020: val_loss improved from 0.08812 to 0.08424, saving model to LeNet.f5\n",
      "Epoch 21/30\n",
      "37/37 [==============================] - 1s 17ms/step - loss: 0.1651 - acc: 0.9608 - val_loss: 0.0715 - val_acc: 0.9958\n",
      "\n",
      "Epoch 00021: val_loss improved from 0.08424 to 0.07153, saving model to LeNet.f5\n",
      "Epoch 22/30\n",
      "37/37 [==============================] - 1s 17ms/step - loss: 0.1431 - acc: 0.9703 - val_loss: 0.0513 - val_acc: 1.0000\n",
      "\n",
      "Epoch 00022: val_loss improved from 0.07153 to 0.05127, saving model to LeNet.f5\n",
      "Epoch 23/30\n",
      "37/37 [==============================] - 1s 17ms/step - loss: 0.1465 - acc: 0.9594 - val_loss: 0.0443 - val_acc: 1.0000\n",
      "\n",
      "Epoch 00023: val_loss improved from 0.05127 to 0.04426, saving model to LeNet.f5\n",
      "Epoch 24/30\n",
      "37/37 [==============================] - 1s 18ms/step - loss: 0.1348 - acc: 0.9716 - val_loss: 0.0499 - val_acc: 0.9958\n",
      "\n",
      "Epoch 00024: val_loss did not improve from 0.04426\n",
      "Epoch 25/30\n",
      "37/37 [==============================] - 1s 18ms/step - loss: 0.1352 - acc: 0.9703 - val_loss: 0.0487 - val_acc: 1.0000\n",
      "\n",
      "Epoch 00025: val_loss did not improve from 0.04426\n",
      "Epoch 26/30\n",
      "37/37 [==============================] - 1s 17ms/step - loss: 0.1152 - acc: 0.9716 - val_loss: 0.0395 - val_acc: 1.0000\n",
      "\n",
      "Epoch 00026: val_loss improved from 0.04426 to 0.03947, saving model to LeNet.f5\n",
      "Epoch 27/30\n",
      "37/37 [==============================] - 1s 17ms/step - loss: 0.1087 - acc: 0.9770 - val_loss: 0.0296 - val_acc: 1.0000\n",
      "\n",
      "Epoch 00027: val_loss improved from 0.03947 to 0.02957, saving model to LeNet.f5\n",
      "Epoch 28/30\n",
      "37/37 [==============================] - 1s 17ms/step - loss: 0.0994 - acc: 0.9784 - val_loss: 0.0303 - val_acc: 0.9957\n",
      "\n",
      "Epoch 00028: val_loss did not improve from 0.02957\n",
      "Epoch 29/30\n",
      "37/37 [==============================] - 1s 17ms/step - loss: 0.0886 - acc: 0.9797 - val_loss: 0.0250 - val_acc: 1.0000\n",
      "\n",
      "Epoch 00029: val_loss improved from 0.02957 to 0.02502, saving model to LeNet.f5\n",
      "Epoch 30/30\n",
      "37/37 [==============================] - 1s 18ms/step - loss: 0.0916 - acc: 0.9784 - val_loss: 0.0230 - val_acc: 1.0000\n",
      "\n",
      "Epoch 00030: val_loss improved from 0.02502 to 0.02300, saving model to LeNet.f5\n"
     ]
    }
   ],
   "source": [
    "from keras.callbacks import ModelCheckpoint, EarlyStopping, ReduceLROnPlateau\n",
    "from keras.optimizers import Adam\n",
    "\n",
    "model = LeNet((IMAGE_HEIGHT, IMAGE_WIDTH,IMAGE_CHANNELS))\n",
    "\n",
    "checkpoint = ModelCheckpoint('LeNet.h5', monitor='val_loss',\n",
    "                             verbose=1, save_best_only=True, mode='min', save_weights_only=False)\n",
    "earlyStop = EarlyStopping(monitor='val_loss', mode='min', patience=5)\n",
    "reduceLROnPlat = ReduceLROnPlateau(monitor='val_loss', factor=0.5,\n",
    "                                   patience=3,\n",
    "                                   verbose=1, mode='min', min_delta=0.0001, cooldown=2, min_lr=1e-6)\n",
    "\n",
    "callbacks_list = [checkpoint, reduceLROnPlat, earlyStop]\n",
    "optim = Adam(lr=1e-4, decay=1e-6)\n",
    "model.compile(optimizer=optim, loss='categorical_crossentropy', metrics=['accuracy'])\n",
    "\n",
    "# train model\n",
    "print('Training started....')\n",
    "\n",
    "train_steps = len(d_train)//BATCH_SIZE\n",
    "val_steps = len(d_test)//BATCH_SIZE\n",
    "\n",
    "history = model.fit_generator(\n",
    "    train_gen,\n",
    "    steps_per_epoch=train_steps,\n",
    "    epochs=EPOCHS,\n",
    "    validation_data=test_gen,\n",
    "    validation_steps=val_steps,\n",
    "    verbose=1,\n",
    "    callbacks=callbacks_list,\n",
    "    workers=1\n",
    ")"
   ]
  },
  {
   "cell_type": "markdown",
   "metadata": {
    "colab_type": "text",
    "id": "roNAKm-gqI3u"
   },
   "source": [
    "## Evaluation"
   ]
  },
  {
   "cell_type": "code",
   "execution_count": 43,
   "metadata": {
    "colab": {
     "base_uri": "https://localhost:8080/",
     "height": 51
    },
    "colab_type": "code",
    "id": "i0NJKwqkozqo",
    "outputId": "6dc5319d-d437-4b45-f293-ec0c5dc3af5c"
   },
   "outputs": [
    {
     "name": "stdout",
     "output_type": "stream",
     "text": [
      "Test loss: 0.01896966869632403\n",
      "Test accuracy: 1.0\n"
     ]
    }
   ],
   "source": [
    "score = model.evaluate_generator(test_gen, steps=val_steps)\n",
    "print('Test loss:', score[0])\n",
    "print('Test accuracy:', score[1])"
   ]
  },
  {
   "cell_type": "code",
   "execution_count": 0,
   "metadata": {
    "colab": {},
    "colab_type": "code",
    "id": "N4sKGqeXqNbr"
   },
   "outputs": [],
   "source": []
  }
 ],
 "metadata": {
  "accelerator": "GPU",
  "colab": {
   "name": "Bengali_digit_recognition.ipynb",
   "provenance": [],
   "toc_visible": true,
   "version": "0.3.2"
  },
  "kernelspec": {
   "display_name": "Python 3",
   "language": "python",
   "name": "python3"
  },
  "language_info": {
   "codemirror_mode": {
    "name": "ipython",
    "version": 3
   },
   "file_extension": ".py",
   "mimetype": "text/x-python",
   "name": "python",
   "nbconvert_exporter": "python",
   "pygments_lexer": "ipython3",
   "version": "3.6.5"
  }
 },
 "nbformat": 4,
 "nbformat_minor": 1
}
